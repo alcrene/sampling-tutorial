{
 "cells": [
  {
   "cell_type": "markdown",
   "metadata": {
    "slideshow": {
     "slide_type": "slide"
    }
   },
   "source": [
    "# Topics\n",
    "- Why?\n",
    "- How?\n",
    "  + **Typical set**\n",
    "  + Markov Chain Monte Carlo\n",
    "    + **Transition invariance**\n",
    "  + Nested sampling\n",
    "- The original(?) sampler: Metropolis-Hastings algorithm\n",
    "- What the cool kids do: Hamiltonian Monte Carlo\n",
    "  + Standard form\n",
    "  + Automatically tuned version (NUTS)"
   ]
  },
  {
   "cell_type": "markdown",
   "metadata": {
    "slideshow": {
     "slide_type": "slide"
    }
   },
   "source": [
    "# Material\n",
    "\n",
    "<table>\n",
    "  <tr>\n",
    "    <td><em>Information Theory, Inference and Learning Algorithms</em> <br> (Mackay, 2003), Chaps 4, 29, 30</td><td><img width=\"200px\" src=\"images/Mackay_cover.png\"></td>\n",
    "  </tr>\n",
    "  <tr>\n",
    "    <td><em><a href=https://arxiv.org/abs/1701.02434>A Conceptual Introduction to Hamiltonian Monte Carlo</a></em><br>(Betancourt, 2017)</td><td><img width=\"200px\" src=\"images/A_conceptual_introduction_to_Hamiltonian_Monte_Carlo_abstract.png\"></td>\n",
    "  </tr>\n",
    "  <tr>\n",
    "    <td><em><a href=https://projecteuclid.org/euclid.ba/1340370944>Nested sampling for general Bayesian computation</a></em><br>(Skilling, 2006)</td><td><img width=\"200px\" src=\"images/Nested_sampling_for_general_Bayesian_computation_abstract.png\"></td>\n",
    "  </tr>\n",
    "</table>"
   ]
  },
  {
   "cell_type": "markdown",
   "metadata": {
    "slideshow": {
     "slide_type": "slide"
    }
   },
   "source": [
    "# Why ?\n",
    "![](images/problems_to_be_solved.png)"
   ]
  },
  {
   "cell_type": "code",
   "execution_count": null,
   "metadata": {},
   "outputs": [],
   "source": []
  }
 ],
 "metadata": {
  "kernelspec": {
   "display_name": "Python (sampling-tutorial)",
   "language": "python",
   "name": "sampling-tutorial"
  },
  "language_info": {
   "codemirror_mode": {
    "name": "ipython",
    "version": 3
   },
   "file_extension": ".py",
   "mimetype": "text/x-python",
   "name": "python",
   "nbconvert_exporter": "python",
   "pygments_lexer": "ipython3",
   "version": "3.6.5"
  }
 },
 "nbformat": 4,
 "nbformat_minor": 4
}
